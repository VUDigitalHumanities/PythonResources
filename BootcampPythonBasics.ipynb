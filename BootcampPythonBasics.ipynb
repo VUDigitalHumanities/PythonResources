{
 "cells": [
  {
   "attachments": {
    "Screen%20Shot%202020-05-20%20at%2010.41.09%20PM.png": {
     "image/png": "[encoded data removed]"
    }
   },
   "cell_type": "markdown",
   "metadata": {},
   "source": [
    "Welcome to your Jupyter Notebook. This is a virtual environment where you can run Python programs without installing a bunch of new stuff to your computer.  We're running Python 3 here.\n",
    "---\n",
    "\n",
    "In between the text blocks like this one, you'll see \"cells\" formatted as input lines that begin with: \"In []: ...\"  Enter Python code in those cells, following the instructions in the text blocks above them. To run the code you wrote, click the \"Run\" button in the toolbar at the top of this workspace. ![Screen%20Shot%202020-05-20%20at%2010.41.09%20PM.png](attachment:Screen%20Shot%202020-05-20%20at%2010.41.09%20PM.png)\n",
    "\n",
    "\n",
    "\n",
    "Try it now!  Type this phrase in the code cell below.  \n",
    "\n",
    "\n",
    "\n",
    "\n",
    "\n",
    "**print('Hello world')**\n"
   ]
  },
  {
   "cell_type": "code",
   "execution_count": null,
   "metadata": {},
   "outputs": [],
   "source": []
  },
  {
   "cell_type": "markdown",
   "metadata": {},
   "source": [
    "If you've never written computer code before, well, now you have.  You just told Python to print out the value inside the parentheses. In this case, that value is a 'string' -- a collection of typographical characters that, in this case, happen to spell out 'Hello world'.  Anything within quotation marks is parsed by Python as a string. Python also recognizes numerical values, such as integers (whole numbers) and 'floats' (decimal numbers).  Try typing the following phrases into the code cell below, and see if you can predict what will happen:\n",
    "\n",
    "**print(1+3)**\n",
    "\n",
    "**print('1+3')**  \n"
   ]
  },
  {
   "cell_type": "code",
   "execution_count": null,
   "metadata": {},
   "outputs": [],
   "source": []
  },
  {
   "cell_type": "markdown",
   "metadata": {},
   "source": [
    "Value types and variables\n",
    "---"
   ]
  },
  {
   "cell_type": "markdown",
   "metadata": {},
   "source": [
    "If you ever have a quesiton about the what kind of value you're working with, you can check it with the *type()* function. Try this:\n",
    "\n",
    "**print(type(3))**\n"
   ]
  },
  {
   "cell_type": "code",
   "execution_count": null,
   "metadata": {},
   "outputs": [],
   "source": []
  },
  {
   "cell_type": "markdown",
   "metadata": {},
   "source": [
    "In this case, you asked Python to 1) interpret the type of the value within parentheses, and 2) print the result. You're using two nested functions here: print() and type(). \n",
    "\n",
    "Functions are operation Python performs on the value within parentheses. If you're interested, a list of additional built-in Python functions is available here: https://docs.python.org/3/library/functions.html \n",
    "\n",
    "\n",
    "Next, try setting a variable:\n",
    "\n",
    "**a = 'mongoose'**\n",
    "\n",
    "**print(a)**\n",
    "\n",
    "**print(type(a))**\n"
   ]
  },
  {
   "cell_type": "code",
   "execution_count": null,
   "metadata": {},
   "outputs": [],
   "source": []
  },
  {
   "cell_type": "markdown",
   "metadata": {},
   "source": [
    "Notice that the variable *a* is treated as equivalent to the string 'mongoose'; the type of the variable is 'str,' or string.\n"
   ]
  },
  {
   "cell_type": "markdown",
   "metadata": {},
   "source": [
    "There are lots of rules and guidelines for how to name variables in Python, but don't worry about them too much until you're writing your own programs outside this worksheet. For now, just know that in Python the variable name always goes on the left side of the assignment statement, and the value assigned to that variable name goes on the right. \n",
    "Here's an example variable assignment statement: x = y. The variable name is on the left; in this case that's x. The value assigned to the variable is on the right, so in this case that's y.  \n",
    "\n",
    "You can reassign and change variables anytime. A new variable assignment overwrites the previous one. \n",
    "\n",
    "Try this:\n",
    "\n",
    "**a = 'mongoose'**\n",
    "\n",
    "**a = 'squid'**\n",
    "\n",
    "**print(a)**\n"
   ]
  },
  {
   "cell_type": "code",
   "execution_count": null,
   "metadata": {},
   "outputs": [],
   "source": []
  },
  {
   "cell_type": "markdown",
   "metadata": {},
   "source": [
    "Python is smart about figuring out what value types it's working with and understanding what it can and can't do with those values. Try:\n",
    "\n",
    "**a = 'mongoose'**\n",
    "\n",
    "**b = 1**\n",
    "\n",
    "**c = '2'**\n",
    "\n",
    "\n",
    "**print(a + b)**"
   ]
  },
  {
   "cell_type": "code",
   "execution_count": null,
   "metadata": {},
   "outputs": [],
   "source": []
  },
  {
   "cell_type": "markdown",
   "metadata": {},
   "source": [
    "In the code cell above, you should see a \"Traceback\" error message - Python is letting you know that something didn't work in your code, and explaining why it broke down. In this case, you tried to add two unlike values: the value for c, '2', is a string, not an integer -- it's in quotation marks. But you can convert the value type with another operation:\n",
    " \n",
    "\n",
    "**print(b + (int(c)))**"
   ]
  },
  {
   "cell_type": "code",
   "execution_count": null,
   "metadata": {},
   "outputs": [],
   "source": []
  },
  {
   "cell_type": "markdown",
   "metadata": {},
   "source": [
    "Here you converted the value of c, '2', from a string into an integer with the int() operation. Once Python knows that c is an integer, it can add b and c together.\n",
    "\n",
    "Check out the large number of nested operations in this line above: printing, addition, and value type conversion. This makes for a lot of close-parentheses on the end of the line, but each one of these parentheses is important: that's how you let Python know your request is complete. Even highly experienced programmers can make punctuation errors that cause code to fail. In this sense, correcting code can be a lot like copyediting text.\n",
    "\n",
    "\n",
    "Interestingly enough, Python can add strings together, too.  This is called string concatenation. Try this:\n",
    "\n",
    "**print(a + c)**"
   ]
  },
  {
   "cell_type": "code",
   "execution_count": null,
   "metadata": {},
   "outputs": [],
   "source": []
  },
  {
   "cell_type": "markdown",
   "metadata": {},
   "source": [
    "Notice there's no space added between the original strings - they're merged into a single string.  To print both values with a space between them, try: \n",
    "\n",
    "**print(a,c)**"
   ]
  },
  {
   "cell_type": "code",
   "execution_count": null,
   "metadata": {},
   "outputs": [],
   "source": []
  },
  {
   "cell_type": "markdown",
   "metadata": {},
   "source": [
    "Note that the values for a, b, and c have remained consistent since you first set them, but you can change the value of a variable. \n",
    "\n",
    "Try this: \n",
    "\n",
    "**b = b + 1**\n",
    "\n",
    "**b = b -5**\n",
    "\n",
    "**print(b)**"
   ]
  },
  {
   "cell_type": "code",
   "execution_count": null,
   "metadata": {},
   "outputs": [],
   "source": []
  },
  {
   "cell_type": "markdown",
   "metadata": {},
   "source": [
    "It can be very handy to assign variables to keep count of things for you.  We'll come back to this later. \n"
   ]
  },
  {
   "cell_type": "markdown",
   "metadata": {},
   "source": [
    "Boolean values\n",
    "--"
   ]
  },
  {
   "cell_type": "markdown",
   "metadata": {},
   "source": [
    "Python also recognizes boolean operators and logical statements. \n",
    "\n",
    "When asking Python to assess the truth value (ie True or False) of a statement, use TWO equals signs: == .  \n",
    "That's how you let Python know you want to test a truth statement, not assign an new variable. \n",
    "\n",
    "Try this, and remember that the value of *b* is the same as it was in the last code cell. \n",
    "\n",
    "**b == 10**\n"
   ]
  },
  {
   "cell_type": "code",
   "execution_count": null,
   "metadata": {},
   "outputs": [],
   "source": []
  },
  {
   "cell_type": "markdown",
   "metadata": {},
   "source": [
    "Now type and run this, preserving the indentations and punctuation:\n",
    "\n",
    "if b <0:  \n",
    "\n",
    "    print('b is less than zero')    \n",
    "    \n",
    "    print('b is a negative number')  "
   ]
  },
  {
   "cell_type": "code",
   "execution_count": null,
   "metadata": {},
   "outputs": [],
   "source": []
  },
  {
   "cell_type": "markdown",
   "metadata": {
    "slideshow": {
     "slide_type": "slide"
    }
   },
   "source": [
    "If-Statements\n",
    "--"
   ]
  },
  {
   "cell_type": "markdown",
   "metadata": {},
   "source": [
    "Note the syntax of the **if-statement** above.  Start with 'if' in lower case, then give the expression whose truth value you're testing (in this case, b<0), and finish with a colon.  Then skip a line and indent and give the operation you want Python to run if the if-statement is true.  The indent lets you see at a glance that the indented operation will only happen if some other condition is met.\n",
    "\n",
    "You can write longer if-statements using the terms **elif** (a contraction of else-if) and **else**. If an if-statement is longer than one line, it needs to end with \"else.\" \"elif\" is an intermediary conditional along the way. This may best be clarified with an example:  \n",
    "\n",
    "z = 99  \n",
    "\n",
    "if z > 100:  \n",
    "\n",
    "    print(\"Big number.\")  \n",
    "    \n",
    "elif z < 75:  \n",
    "\n",
    "    print(\"Ok.\")  \n",
    "    \n",
    "else:  \n",
    "\n",
    "    print(\"Middling.\")"
   ]
  },
  {
   "cell_type": "code",
   "execution_count": null,
   "metadata": {},
   "outputs": [],
   "source": []
  },
  {
   "cell_type": "markdown",
   "metadata": {},
   "source": [
    "Feel free to play around with your own variations on these suggestions so far.  Your Jupyter Notebook cells will run any valid Python code.  "
   ]
  },
  {
   "cell_type": "markdown",
   "metadata": {},
   "source": [
    "The Input Function\n",
    "--"
   ]
  },
  {
   "cell_type": "markdown",
   "metadata": {},
   "source": [
    "Fun fact: you can write a simple text-based choose-your-own-adventure game in Python using conditional statements, the print function, and the **input function**.\n",
    "\n",
    "The input function asks for typed input from a user and incorporates that input into the program. Assign the input to a variable, and use that variable in your if-statements. Note that input values always start out as strings, so you'll need to convert them to integer or float val you want to treat them as numbers. Try this:\n",
    "\n",
    "x = input('Pick a number.')  \n",
    "\n",
    "if int(x) > 3:  \n",
    "\n",
    "    print(\"Too high.\")  \n",
    "   \n",
    "elif int(x) < 3:  \n",
    "\n",
    "    print(\"Too low.\")\n",
    "else:  \n",
    "\n",
    "    print(\"That's a magic number!\")\n"
   ]
  },
  {
   "cell_type": "code",
   "execution_count": null,
   "metadata": {},
   "outputs": [],
   "source": []
  },
  {
   "cell_type": "markdown",
   "metadata": {},
   "source": [
    "String sequences as data\n",
    "--"
   ]
  },
  {
   "cell_type": "markdown",
   "metadata": {},
   "source": [
    "A string in Python is exacly that: a **sequence** of characters. A sequence is an excellent and elegant way to store data. Here are some examples of how you can treat a character string in Python as sequential data. \n",
    "\n",
    "Try this: \n",
    "\n",
    "a = \"waterlily\"  \n",
    "\n",
    "print(len(a))"
   ]
  },
  {
   "cell_type": "code",
   "execution_count": null,
   "metadata": {},
   "outputs": [],
   "source": []
  },
  {
   "cell_type": "markdown",
   "metadata": {},
   "source": [
    "len() is the length function. You just asked Python to tell you the number of items - i.e., characters - in the sequence that is a.\n",
    "\n",
    "Python will index the items in a sequence by number, starting with zero. That is to say, the first item in a sequence is indexed at 0. Some people would say that Python 'starts counting at zero.' In the case of of the string 'waterlily,' the item at index [0] is 'w'. Use square brackets to enclose the index number.\n",
    "\n",
    "Try these examples:\n",
    "\n",
    "print(a[0])  \n",
    "\n",
    "print(a[4])  \n",
    "\n",
    "print(a[-1])  \n"
   ]
  },
  {
   "cell_type": "code",
   "execution_count": null,
   "metadata": {},
   "outputs": [],
   "source": []
  },
  {
   "cell_type": "markdown",
   "metadata": {},
   "source": [
    "Note that using an index of [-1] can be a convenient way to find the last item in a sequence. \n",
    "\n",
    "\n",
    "You can use a variation of indexing to return a slice of items in a sequence; this is called... slicing. Give Python an index range with endpoints separated by a colon; Python will begin at the first term, and return items up to but not including the second term. If you leave one side blank, Python will automatically use the first or last item of the sequence.\n",
    "\n",
    "print(a[2:5])  \n",
    "\n",
    "print(a[:6])  \n",
    "\n",
    "print(a[3:])"
   ]
  },
  {
   "cell_type": "code",
   "execution_count": null,
   "metadata": {},
   "outputs": [],
   "source": []
  },
  {
   "cell_type": "markdown",
   "metadata": {},
   "source": [
    "For-loops with strings\n",
    "--"
   ]
  },
  {
   "cell_type": "markdown",
   "metadata": {},
   "source": [
    "Python can also iterate through items in a sequence and perform operations on them using an amazing logical structure called a for-loop.  \n",
    "\n",
    "The basic syntax of the for loop is simple. You start with a for-statement and a colon, then skip to a new line, indent, and outline the action you want to happen with each item in the sequence. \n",
    "\n",
    "for [item] in [sequence]:\n",
    "    *do something*\n",
    "\n",
    "In this example, [item] is a variable name for the items in this sequence. Each item in the sequence will be assigned to this variable in turn. This kind of variable is called an iterator variable.  \n",
    "\n",
    "Note that you need to define the sequence before writing the for-loop, but the iterator variable is defined for the first time within the for-loop.\n",
    "\n",
    "Try this example: \n",
    "\n",
    "b = \"bananas\"  \n",
    "\n",
    "for letter in b:  \n",
    "\n",
    "    print(letter)"
   ]
  },
  {
   "cell_type": "code",
   "execution_count": null,
   "metadata": {},
   "outputs": [],
   "source": []
  },
  {
   "cell_type": "markdown",
   "metadata": {},
   "source": [
    "You can make this more complex, more silly, or both.  Try this version: \n",
    "    \n",
    "b = \"bananas\"  \n",
    "\n",
    "for letter in b:  \n",
    "\n",
    "    print(letter+'aa')"
   ]
  },
  {
   "cell_type": "code",
   "execution_count": null,
   "metadata": {},
   "outputs": [],
   "source": []
  },
  {
   "cell_type": "markdown",
   "metadata": {},
   "source": [
    "For-loops are a common way to iterate through the items of a sequence and count them. For this next operation, we'll use a counter variable to count the number of times the letter 'a' appears in the word 'bananas'. \n",
    "\n",
    "*word* is our variable name for the character sequence 'bananas'\n",
    "\n",
    "*letter* is the \"iterator\" variable\n",
    "\n",
    "*a_count* is the \"counter\" variable; we'll add 1 to this for each 'a' the iterator encounters as it loops through the letters in *word*.\n",
    "\n",
    "Try this code:\n",
    "\n",
    "word = 'bananas'  \n",
    "\n",
    "a_count = 0  \n",
    "\n",
    "for letter in word:  \n",
    "\n",
    "    if letter == 'a':  \n",
    "    \n",
    "        a_count = a_count + 1  \n",
    "        \n",
    "print('the letter a appears',a_count,'times in the word',word)"
   ]
  },
  {
   "cell_type": "code",
   "execution_count": null,
   "metadata": {},
   "outputs": [],
   "source": []
  },
  {
   "cell_type": "markdown",
   "metadata": {},
   "source": [
    "In the section above, we're treating strings as a data structure. If you continue with Python, you'll learn about other data structures: lists, dictionaries, and more."
   ]
  },
  {
   "cell_type": "markdown",
   "metadata": {},
   "source": [
    "--\n",
    "There you have it! An introduction to some of the fun and powerful things Python can do. \n",
    "--\n",
    "These same basic principles are at work when Python runs more powerful operations like text and data analysis. If you'd like to lear more about how to use Python for digital humanities research, continue to the next module in this section."
   ]
  },
  {
   "cell_type": "code",
   "execution_count": null,
   "metadata": {},
   "outputs": [],
   "source": []
  }
 ],
 "metadata": {
  "kernelspec": {
   "display_name": "Python 3",
   "language": "python",
   "name": "python3"
  },
  "language_info": {
   "codemirror_mode": {
    "name": "ipython",
    "version": 3
   },
   "file_extension": ".py",
   "mimetype": "text/x-python",
   "name": "python",
   "nbconvert_exporter": "python",
   "pygments_lexer": "ipython3",
   "version": "3.4.9"
  }
 },
 "nbformat": 4,
 "nbformat_minor": 2
}
